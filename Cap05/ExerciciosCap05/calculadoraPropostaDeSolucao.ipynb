{
 "cells": [
  {
   "cell_type": "code",
   "execution_count": 2,
   "id": "b15f32cf",
   "metadata": {},
   "outputs": [
    {
     "name": "stdout",
     "output_type": "stream",
     "text": [
      "\n",
      "*************************** Python Calculadora **********************\n",
      "\n",
      "Selecione o numero da operação desejada: \n",
      "\n",
      "1 - Soma\n",
      "2 - Subtração\n",
      "3 - Multiplicação\n",
      "4 - Divisão\n",
      "\n",
      "Digite sua opção (1/2/3/4): 2\n",
      "\n",
      "Digite o primeiro número: 7\n",
      "\n",
      "Digite o segundo número: 2\n",
      "7 - 2 = 5\n",
      "\n",
      "\n"
     ]
    }
   ],
   "source": [
    "print(\"\\n*************************** Python Calculadora **********************\")\n",
    "\n",
    "def add(x,y):\n",
    "    return x + y\n",
    "def subtract(x,y):\n",
    "    return x - y\n",
    "def multiply(x,y):\n",
    "    return x * y\n",
    "def divide(x,y):\n",
    "    return x / y\n",
    "\n",
    "\n",
    "print(\"\\nSelecione o numero da operação desejada: \\n\")\n",
    "print(\"1 - Soma\")\n",
    "print(\"2 - Subtração\")\n",
    "print(\"3 - Multiplicação\")\n",
    "print(\"4 - Divisão\")\n",
    "\n",
    "\n",
    "escolha = input(\"\\nDigite sua opção (1/2/3/4): \")\n",
    "\n",
    "num1 = int(input(\"\\nDigite o primeiro número: \"))\n",
    "num2 = int(input(\"\\nDigite o segundo número: \"))\n",
    "\n",
    "if escolha == \"1\":\n",
    "    print(num1, \"+\", num2, \"=\", add(num1, num2))\n",
    "    print(\"\\n\")\n",
    "elif escolha == \"2\":\n",
    "    print(num1, \"-\", num2, \"=\", subtract(num1, num2))\n",
    "    print(\"\\n\")\n",
    "elif escolha == \"3\":\n",
    "    print(num1, \"*\", num2, \"=\", multiply(num1, num2))\n",
    "    print(\"\\n\")\n",
    "elif escolha == \"4\":\n",
    "    print(num1, \"/\", num2, \"=\", divide(num1, num2))\n",
    "    print(\"\\n\")\n",
    "else:\n",
    "    print(\"\\nOpção Invalida!\")"
   ]
  },
  {
   "cell_type": "code",
   "execution_count": null,
   "id": "2cf62cde",
   "metadata": {},
   "outputs": [],
   "source": []
  }
 ],
 "metadata": {
  "kernelspec": {
   "display_name": "Python 3 (ipykernel)",
   "language": "python",
   "name": "python3"
  },
  "language_info": {
   "codemirror_mode": {
    "name": "ipython",
    "version": 3
   },
   "file_extension": ".py",
   "mimetype": "text/x-python",
   "name": "python",
   "nbconvert_exporter": "python",
   "pygments_lexer": "ipython3",
   "version": "3.9.13"
  }
 },
 "nbformat": 4,
 "nbformat_minor": 5
}
