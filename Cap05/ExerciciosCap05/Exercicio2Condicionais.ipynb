{
 "cells": [
  {
   "cell_type": "code",
   "execution_count": 3,
   "id": "e03ceb92",
   "metadata": {},
   "outputs": [
    {
     "name": "stdout",
     "output_type": "stream",
     "text": [
      "Morango esta na lista\n"
     ]
    }
   ],
   "source": [
    "# Exercício 2 - Crie uma lista de 5 frutas e verifique se a fruta 'Morango' faz parte da lista\n",
    "frutas = ['Maçã', 'Banana', 'Uva', 'Laranja', 'Morango']\n",
    "\n",
    "if 'Morango' in frutas:\n",
    "    print('Morango esta na lista')\n",
    "else:\n",
    "    print('Morango não esta na lista')"
   ]
  },
  {
   "cell_type": "code",
   "execution_count": 4,
   "id": "6c19a4d4",
   "metadata": {},
   "outputs": [
    {
     "name": "stdout",
     "output_type": "stream",
     "text": [
      "Morango não esta na lista\n"
     ]
    }
   ],
   "source": [
    "frutas = ['Maçã', 'Banana', 'Uva', 'Laranja', 'Acerola']\n",
    "\n",
    "if 'Morango' in frutas:\n",
    "    print('Morango esta na lista')\n",
    "else:\n",
    "    print('Morango não esta na lista')"
   ]
  },
  {
   "cell_type": "code",
   "execution_count": null,
   "id": "6cefd27e",
   "metadata": {},
   "outputs": [],
   "source": []
  }
 ],
 "metadata": {
  "kernelspec": {
   "display_name": "Python 3 (ipykernel)",
   "language": "python",
   "name": "python3"
  },
  "language_info": {
   "codemirror_mode": {
    "name": "ipython",
    "version": 3
   },
   "file_extension": ".py",
   "mimetype": "text/x-python",
   "name": "python",
   "nbconvert_exporter": "python",
   "pygments_lexer": "ipython3",
   "version": "3.9.13"
  }
 },
 "nbformat": 4,
 "nbformat_minor": 5
}
