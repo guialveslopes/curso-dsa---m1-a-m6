{
 "cells": [
  {
   "cell_type": "markdown",
   "id": "5eecabfd",
   "metadata": {},
   "source": [
    "## List Comprehension"
   ]
  },
  {
   "cell_type": "code",
   "execution_count": 1,
   "id": "b4847fb7",
   "metadata": {},
   "outputs": [
    {
     "data": {
      "text/plain": [
       "[0, 1, 2, 3, 4, 5, 6, 7, 8, 9]"
      ]
     },
     "execution_count": 1,
     "metadata": {},
     "output_type": "execute_result"
    }
   ],
   "source": [
    "[x for x in range(10)]"
   ]
  },
  {
   "cell_type": "code",
   "execution_count": 2,
   "id": "0afa1f20",
   "metadata": {},
   "outputs": [],
   "source": [
    "lista_numeros = [x for x in range(10)]"
   ]
  },
  {
   "cell_type": "code",
   "execution_count": 3,
   "id": "0aeef5e5",
   "metadata": {},
   "outputs": [
    {
     "name": "stdout",
     "output_type": "stream",
     "text": [
      "[0, 1, 2, 3, 4, 5, 6, 7, 8, 9]\n"
     ]
    }
   ],
   "source": [
    "print(lista_numeros)"
   ]
  },
  {
   "cell_type": "code",
   "execution_count": 4,
   "id": "20e6b589",
   "metadata": {},
   "outputs": [
    {
     "name": "stdout",
     "output_type": "stream",
     "text": [
      "[0, 1, 2, 3, 4]\n"
     ]
    }
   ],
   "source": [
    "lista_numeros = [x for x in range(10) if x < 5]\n",
    "print(lista_numeros)"
   ]
  },
  {
   "cell_type": "code",
   "execution_count": 5,
   "id": "55c9e6e1",
   "metadata": {},
   "outputs": [],
   "source": [
    "lista_frutas = ['banana', 'abacate', 'melancia', 'cereja', 'manga']\n",
    "\n",
    "nova_lista = []"
   ]
  },
  {
   "cell_type": "code",
   "execution_count": 6,
   "id": "a468d626",
   "metadata": {},
   "outputs": [
    {
     "name": "stdout",
     "output_type": "stream",
     "text": [
      "['melancia', 'manga']\n"
     ]
    }
   ],
   "source": [
    "for x in lista_frutas:\n",
    "    if 'm' in x:\n",
    "        nova_lista.append(x)\n",
    "        \n",
    "print(nova_lista)"
   ]
  },
  {
   "cell_type": "code",
   "execution_count": 8,
   "id": "66d4ad8e",
   "metadata": {},
   "outputs": [
    {
     "name": "stdout",
     "output_type": "stream",
     "text": [
      "['melancia', 'manga']\n"
     ]
    }
   ],
   "source": [
    "nova_lista = [x for x in lista_frutas if 'm' in x]\n",
    "print(nova_lista)"
   ]
  },
  {
   "cell_type": "code",
   "execution_count": 10,
   "id": "7f9fd531",
   "metadata": {},
   "outputs": [
    {
     "name": "stdout",
     "output_type": "stream",
     "text": [
      "{'Bob': 68, 'Michel': 84, 'Zico': 57, 'Ana': 93}\n"
     ]
    }
   ],
   "source": [
    "dict_alunos = {'Bob':68, 'Michel': 84, 'Zico':57, 'Ana': 93}\n",
    "\n",
    "dict_alunos_status = {k:v for (k,v) in dict_alunos.items()}\n",
    "print(dict_alunos_status)"
   ]
  },
  {
   "cell_type": "code",
   "execution_count": 11,
   "id": "28f69890",
   "metadata": {},
   "outputs": [
    {
     "name": "stdout",
     "output_type": "stream",
     "text": [
      "{'Bob': 'Reprovado', 'Michel': 'Aprovado', 'Zico': 'Reprovado', 'Ana': 'Aprovado'}\n"
     ]
    }
   ],
   "source": [
    "dict_alunos = {'Bob':68, 'Michel': 84, 'Zico':57, 'Ana': 93}\n",
    "\n",
    "dict_alunos_status = {k: ('Aprovado' if v > 70 else 'Reprovado') for (k,v) in dict_alunos.items()}\n",
    "print(dict_alunos_status)"
   ]
  },
  {
   "cell_type": "code",
   "execution_count": null,
   "id": "e02cc535",
   "metadata": {},
   "outputs": [],
   "source": []
  }
 ],
 "metadata": {
  "kernelspec": {
   "display_name": "Python 3 (ipykernel)",
   "language": "python",
   "name": "python3"
  },
  "language_info": {
   "codemirror_mode": {
    "name": "ipython",
    "version": 3
   },
   "file_extension": ".py",
   "mimetype": "text/x-python",
   "name": "python",
   "nbconvert_exporter": "python",
   "pygments_lexer": "ipython3",
   "version": "3.9.13"
  }
 },
 "nbformat": 4,
 "nbformat_minor": 5
}
