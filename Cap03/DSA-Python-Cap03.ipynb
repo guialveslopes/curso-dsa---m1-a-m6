{
 "cells": [
  {
   "cell_type": "markdown",
   "id": "352f6eb8",
   "metadata": {},
   "source": [
    "# 2 Pseudocódigo Calculadora Simples"
   ]
  },
  {
   "cell_type": "markdown",
   "id": "c3a0b3af",
   "metadata": {},
   "source": [
    "Inicie\n",
    "Exiba una nensagem de bem vindo para o usuario\n",
    "Peça para o usuario inserir o número que deseja calcular\n",
    "Armazene o número em uma variavel\n",
    "Peça para o usuario inserir o número que vai calcular o primeiro\n",
    "Armazene o resultado em uma variavel\n",
    "peça para o usuario digitar a operação que deseja\n",
    "Armazene a operação em uma variavel\n",
    "Calcule o resultado\n",
    "exiba na tela"
   ]
  },
  {
   "cell_type": "code",
   "execution_count": 26,
   "id": "cb8848de",
   "metadata": {},
   "outputs": [
    {
     "name": "stdout",
     "output_type": "stream",
     "text": [
      "Bem vindo a calculadora\n"
     ]
    }
   ],
   "source": [
    "print('Bem vindo a calculadora')"
   ]
  },
  {
   "cell_type": "code",
   "execution_count": 31,
   "id": "555d06d1",
   "metadata": {},
   "outputs": [
    {
     "name": "stdout",
     "output_type": "stream",
     "text": [
      "Insira o primeira número: 1\n"
     ]
    }
   ],
   "source": [
    "num1 = float(input('Insira o primeira número: '))"
   ]
  },
  {
   "cell_type": "code",
   "execution_count": 32,
   "id": "5bc39f0f",
   "metadata": {},
   "outputs": [
    {
     "name": "stdout",
     "output_type": "stream",
     "text": [
      "Insira o segundo número: 2\n"
     ]
    }
   ],
   "source": [
    "num2 = float(input('Insira o segundo número: '))"
   ]
  },
  {
   "cell_type": "code",
   "execution_count": 33,
   "id": "f8803824",
   "metadata": {},
   "outputs": [
    {
     "name": "stdout",
     "output_type": "stream",
     "text": [
      "Selecione uma operação (+, -, *, /):!\n"
     ]
    }
   ],
   "source": [
    "operacao = input('Selecione uma operação (+, -, *, /):')"
   ]
  },
  {
   "cell_type": "code",
   "execution_count": 34,
   "id": "6080eb4a",
   "metadata": {},
   "outputs": [
    {
     "name": "stdout",
     "output_type": "stream",
     "text": [
      "Operação invalida!\n"
     ]
    }
   ],
   "source": [
    "if operacao == '+':\n",
    "    resultado = num1 + num2\n",
    "    print('O resultado é:', resultado)\n",
    "    \n",
    "elif operacao == '-':\n",
    "    resultado = num1 - num2\n",
    "    print('O resultado é:', resultado)\n",
    "    \n",
    "elif operacao == '*':\n",
    "    resultado = num1 * num2\n",
    "    print('O resultado é:', resultado)\n",
    "    \n",
    "elif operacao == '/':\n",
    "    resultado = num1 / num2 \n",
    "    print('O resultado é:', resultado)\n",
    "    \n",
    "else:\n",
    "    print('Operação invalida!')"
   ]
  },
  {
   "cell_type": "markdown",
   "id": "4e448b50",
   "metadata": {},
   "source": [
    "# Pseudocódigo 3 - Algoritmo Bubble sort"
   ]
  },
  {
   "cell_type": "markdown",
   "id": "e9f327a3",
   "metadata": {},
   "source": [
    "Inicio\n",
    "\n",
    "Exiba na tela uma mensagem de boas vindas\n",
    "Peça para o usuario digitar um numero\n",
    "Armazene o valor em uma variavel\n",
    "Repite o processo dez vezes\n",
    "A cada vez que repetir adicione o valor em uma lista\n",
    "Agora usando os recursos do python ordene os itens da lista do menor para o maior\n",
    "Amazene esses valores em uma nova lista\n",
    "Exiba a nova lista na tela\n",
    "\n",
    "Fim"
   ]
  },
  {
   "cell_type": "markdown",
   "id": "893082c6",
   "metadata": {},
   "source": [
    "Inicie\n",
    "    \n",
    "    Para cada elemento i no array de tamanho n\n",
    "        Para cada elemento j no array de tamanho n - 1\n",
    "            Se elemento i for maior que elemento j\n",
    "                Troque os elementos i e j\n",
    "    Exiba o array ordenado\n",
    "    \n",
    "Fim"
   ]
  },
  {
   "cell_type": "code",
   "execution_count": 38,
   "id": "44961bdf",
   "metadata": {},
   "outputs": [],
   "source": [
    "lista = [6,7,8,3,10,76,50,9,13,100,65,11,34,39,12]"
   ]
  },
  {
   "cell_type": "code",
   "execution_count": 43,
   "id": "ffdbab7e",
   "metadata": {},
   "outputs": [],
   "source": [
    "def bubble_sort(arr):\n",
    "    \n",
    "    n = len(arr)\n",
    "    \n",
    "    #Para cada elemento i do array\n",
    "    for i in range(n):\n",
    "        \n",
    "        #Para cada elemento j do array\n",
    "        for j in range(0, n-i-1):\n",
    "            \n",
    "            #Se elemento i for maior que o elemento j\n",
    "            if arr[j] > arr[j+1]:\n",
    "                \n",
    "                #Troque os elementos i e j\n",
    "                arr[j], arr[j+1] = arr[j+1], arr[j]\n",
    "                \n",
    "    return arr"
   ]
  },
  {
   "cell_type": "code",
   "execution_count": 44,
   "id": "6e7a486c",
   "metadata": {},
   "outputs": [
    {
     "name": "stdout",
     "output_type": "stream",
     "text": [
      "[3, 6, 7, 8, 9, 10, 11, 12, 13, 34, 39, 50, 65, 76, 100]\n"
     ]
    }
   ],
   "source": [
    "print(bubble_sort(lista))"
   ]
  },
  {
   "cell_type": "code",
   "execution_count": null,
   "id": "09594f60",
   "metadata": {},
   "outputs": [],
   "source": []
  }
 ],
 "metadata": {
  "kernelspec": {
   "display_name": "Python 3 (ipykernel)",
   "language": "python",
   "name": "python3"
  },
  "language_info": {
   "codemirror_mode": {
    "name": "ipython",
    "version": 3
   },
   "file_extension": ".py",
   "mimetype": "text/x-python",
   "name": "python",
   "nbconvert_exporter": "python",
   "pygments_lexer": "ipython3",
   "version": "3.9.13"
  }
 },
 "nbformat": 4,
 "nbformat_minor": 5
}
