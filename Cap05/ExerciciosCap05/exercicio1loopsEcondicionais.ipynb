{
 "cells": [
  {
   "cell_type": "markdown",
   "id": "219f7f74",
   "metadata": {},
   "source": [
    "# Exercicios de Loops e condicionais "
   ]
  },
  {
   "cell_type": "markdown",
   "id": "95f45971",
   "metadata": {},
   "source": [
    "## EX. 1"
   ]
  },
  {
   "cell_type": "code",
   "execution_count": 33,
   "id": "46fff4c8",
   "metadata": {},
   "outputs": [
    {
     "name": "stdout",
     "output_type": "stream",
     "text": [
      "Que dia é hoje? Domingo: 1/ Segunda: 2/ Terça: 3/ Quarta: 4/ Quinta: 5/ Sexta: 6/ Sabado: 7  55\n",
      "Opção invalida\n"
     ]
    }
   ],
   "source": [
    "# Exercício 1 - Crie uma estrutura que pergunte ao usuário qual o dia da semana. Se o dia for igual a Domingo ou \n",
    "# igual a sábado, imprima na tela \"Hoje é dia de descanso\", caso contrário imprima na tela \"Você precisa trabalhar!\"\n",
    "\n",
    "dia = input('Que dia é hoje? Domingo: 1/ Segunda: 2/ Terça: 3/ Quarta: 4/ Quinta: 5/ Sexta: 6/ Sabado: 7  ')\n",
    "dia = int(dia)\n",
    "\n",
    "if dia == 1:\n",
    "    print('Hoje é dia de descanso!')\n",
    "elif dia == 7:\n",
    "    print('Hoje é dia de descanso!')\n",
    "elif dia == 2:\n",
    "    print('Hoje é dia de trabalhar!')\n",
    "elif dia == 3:\n",
    "    print('Hoje é dia de trabalhar!')\n",
    "elif dia == 4:\n",
    "    print('Hoje é dia de trabalhar!')\n",
    "elif dia == 5:\n",
    "    print('Hoje é dia de trabalhar!')\n",
    "elif dia == 6:\n",
    "    print('Hoje é dia de trabalhar!')\n",
    "else:\n",
    "    print('Opção invalida')"
   ]
  },
  {
   "cell_type": "code",
   "execution_count": null,
   "id": "f16f004c",
   "metadata": {},
   "outputs": [],
   "source": []
  },
  {
   "cell_type": "code",
   "execution_count": null,
   "id": "5d696b07",
   "metadata": {},
   "outputs": [],
   "source": []
  },
  {
   "cell_type": "code",
   "execution_count": null,
   "id": "d4ab0bc2",
   "metadata": {},
   "outputs": [],
   "source": []
  }
 ],
 "metadata": {
  "kernelspec": {
   "display_name": "Python 3 (ipykernel)",
   "language": "python",
   "name": "python3"
  },
  "language_info": {
   "codemirror_mode": {
    "name": "ipython",
    "version": 3
   },
   "file_extension": ".py",
   "mimetype": "text/x-python",
   "name": "python",
   "nbconvert_exporter": "python",
   "pygments_lexer": "ipython3",
   "version": "3.9.13"
  }
 },
 "nbformat": 4,
 "nbformat_minor": 5
}
