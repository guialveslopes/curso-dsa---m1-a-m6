{
 "cells": [
  {
   "cell_type": "code",
   "execution_count": 4,
   "id": "ba888de7",
   "metadata": {},
   "outputs": [
    {
     "name": "stdout",
     "output_type": "stream",
     "text": [
      "Lista após adicionar elementos: [1, 2, 3, 4, 5, 6]\n"
     ]
    }
   ],
   "source": [
    "# Exercício 3 - Crie uma função que receba como parâmetro uma lista de 4 elementos, adicione 2 elementos a lista e \n",
    "# imprima a lista\n",
    "\n",
    "def adicionar_elementos(lista):\n",
    "    # Verifica se a lista tem exatamente 4 elementos\n",
    "    if len(lista) != 4:\n",
    "        print(\"A lista não tem 4 elementos.\")\n",
    "        return\n",
    "    \n",
    "    # Adiciona dois elementos à lista\n",
    "    lista.append(5)\n",
    "    lista.append(6)\n",
    "    \n",
    "    # Imprime a lista resultante\n",
    "    print(\"Lista após adicionar elementos:\", lista)\n",
    "\n",
    "# Exemplo de lista com 4 elementos\n",
    "minha_lista = [1, 2, 3, 4]\n",
    "\n",
    "# Chamando a função e passando a lista como argumento\n",
    "adicionar_elementos(minha_lista)"
   ]
  },
  {
   "cell_type": "code",
   "execution_count": null,
   "id": "45f5ed8e",
   "metadata": {},
   "outputs": [],
   "source": []
  }
 ],
 "metadata": {
  "kernelspec": {
   "display_name": "Python 3 (ipykernel)",
   "language": "python",
   "name": "python3"
  },
  "language_info": {
   "codemirror_mode": {
    "name": "ipython",
    "version": 3
   },
   "file_extension": ".py",
   "mimetype": "text/x-python",
   "name": "python",
   "nbconvert_exporter": "python",
   "pygments_lexer": "ipython3",
   "version": "3.9.13"
  }
 },
 "nbformat": 4,
 "nbformat_minor": 5
}
