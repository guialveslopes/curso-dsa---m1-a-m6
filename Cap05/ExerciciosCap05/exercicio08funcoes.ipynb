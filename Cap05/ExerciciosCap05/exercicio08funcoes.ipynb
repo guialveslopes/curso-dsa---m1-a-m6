{
 "cells": [
  {
   "cell_type": "code",
   "execution_count": 1,
   "id": "808747d0",
   "metadata": {},
   "outputs": [
    {
     "name": "stdout",
     "output_type": "stream",
     "text": [
      "[1, 4, 9, 16, 25, 36, 49, 64, 81, 100]\n"
     ]
    }
   ],
   "source": [
    "# Exercício 8 - Crie uma list comprehension que imprima o quadrado dos números de 1 a 10\n",
    "quadrado = [x**2 for x in range(1,11)]\n",
    "\n",
    "print(quadrado)"
   ]
  },
  {
   "cell_type": "code",
   "execution_count": null,
   "id": "77e14339",
   "metadata": {},
   "outputs": [],
   "source": []
  }
 ],
 "metadata": {
  "kernelspec": {
   "display_name": "Python 3 (ipykernel)",
   "language": "python",
   "name": "python3"
  },
  "language_info": {
   "codemirror_mode": {
    "name": "ipython",
    "version": 3
   },
   "file_extension": ".py",
   "mimetype": "text/x-python",
   "name": "python",
   "nbconvert_exporter": "python",
   "pygments_lexer": "ipython3",
   "version": "3.9.13"
  }
 },
 "nbformat": 4,
 "nbformat_minor": 5
}
