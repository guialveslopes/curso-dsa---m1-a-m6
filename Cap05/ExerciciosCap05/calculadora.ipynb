{
 "cells": [
  {
   "cell_type": "code",
   "execution_count": 19,
   "id": "4ab12b32",
   "metadata": {},
   "outputs": [
    {
     "name": "stdout",
     "output_type": "stream",
     "text": [
      "\n",
      "******************* Calculadora em Python *******************\n",
      "1 - Soma\n",
      "2 - Subtrção\n",
      "3 - Multiplicação\n",
      "4 - Divisão\n",
      "Digite sua opção(1/2/3/4): 4\n",
      "Digite o primeiro numero: 4\n",
      "Digite o segundo numero: 2\n",
      "2.0\n",
      "\n",
      "******************* Calculadora em Python *******************\n"
     ]
    }
   ],
   "source": [
    "# Calculadora em Python\n",
    "\n",
    "# Desenvolva uma calculadora em Python com tudo que você aprendeu nos capítulos até aqui no curso. \n",
    "# A solução será apresentada no próximo capítulo!\n",
    "\n",
    "print(\"\\n******************* Calculadora em Python *******************\")\n",
    "\n",
    "print('1 - Soma\\n2 - Subtrção\\n3 - Multiplicação\\n4 - Divisão')\n",
    "opcao = float(input('Digite sua opção(1/2/3/4): '))\n",
    "\n",
    "num1 = float(input('Digite o primeiro numero: '))\n",
    "num2 = float(input('Digite o segundo numero: ')) \n",
    "\n",
    "if opcao == 1:\n",
    "    resultado = num1 + num2\n",
    "    print(resultado)\n",
    "elif opcao == 2:\n",
    "    resultado = num1 - num2\n",
    "    print(resultado)\n",
    "elif opcao == 3:\n",
    "    resultado = num1 * num2\n",
    "    print(resultado)\n",
    "elif opcao == 4:\n",
    "    if num2 == 0:\n",
    "        print('Não é possivel dividir por zero')\n",
    "    else:\n",
    "        resultado = num1 / num2\n",
    "        print(resultado)\n",
    "else: \n",
    "    print('Opção Invalida')\n",
    "\n",
    "print(\"\\n******************* Calculadora em Python *******************\")"
   ]
  },
  {
   "cell_type": "code",
   "execution_count": null,
   "id": "310ca7fb",
   "metadata": {},
   "outputs": [],
   "source": []
  },
  {
   "cell_type": "code",
   "execution_count": null,
   "id": "5a023d84",
   "metadata": {},
   "outputs": [],
   "source": []
  }
 ],
 "metadata": {
  "kernelspec": {
   "display_name": "Python 3 (ipykernel)",
   "language": "python",
   "name": "python3"
  },
  "language_info": {
   "codemirror_mode": {
    "name": "ipython",
    "version": 3
   },
   "file_extension": ".py",
   "mimetype": "text/x-python",
   "name": "python",
   "nbconvert_exporter": "python",
   "pygments_lexer": "ipython3",
   "version": "3.9.13"
  }
 },
 "nbformat": 4,
 "nbformat_minor": 5
}
