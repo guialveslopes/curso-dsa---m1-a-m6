{
 "cells": [
  {
   "cell_type": "code",
   "execution_count": 3,
   "id": "fa8546e8",
   "metadata": {},
   "outputs": [],
   "source": [
    "# Exercício 6 - Crie um dicionário com 3 chaves e 3 valores e imprima na tela\n",
    "dicionario = {'Arroz':4.98, 'Oleo':5.98, 'chocolate':10.00}"
   ]
  },
  {
   "cell_type": "code",
   "execution_count": 4,
   "id": "973c03cd",
   "metadata": {},
   "outputs": [
    {
     "name": "stdout",
     "output_type": "stream",
     "text": [
      "{'Arroz': 4.98, 'Oleo': 5.98, 'chocolate': 10.0}\n"
     ]
    }
   ],
   "source": [
    "print(dicionario)"
   ]
  },
  {
   "cell_type": "code",
   "execution_count": 6,
   "id": "27413d83",
   "metadata": {},
   "outputs": [],
   "source": [
    "dicionario['Aveia'] = 2.00"
   ]
  },
  {
   "cell_type": "code",
   "execution_count": 7,
   "id": "b1f4882c",
   "metadata": {},
   "outputs": [
    {
     "data": {
      "text/plain": [
       "{'Arroz': 4.98, 'Oleo': 5.98, 'chocolate': 10.0, 'Aveia': 2.0}"
      ]
     },
     "execution_count": 7,
     "metadata": {},
     "output_type": "execute_result"
    }
   ],
   "source": [
    "print(dicionario)"
   ]
  },
  {
   "cell_type": "code",
   "execution_count": null,
   "id": "ce4c92a3",
   "metadata": {},
   "outputs": [],
   "source": []
  }
 ],
 "metadata": {
  "kernelspec": {
   "display_name": "Python 3 (ipykernel)",
   "language": "python",
   "name": "python3"
  },
  "language_info": {
   "codemirror_mode": {
    "name": "ipython",
    "version": 3
   },
   "file_extension": ".py",
   "mimetype": "text/x-python",
   "name": "python",
   "nbconvert_exporter": "python",
   "pygments_lexer": "ipython3",
   "version": "3.9.13"
  }
 },
 "nbformat": 4,
 "nbformat_minor": 5
}
