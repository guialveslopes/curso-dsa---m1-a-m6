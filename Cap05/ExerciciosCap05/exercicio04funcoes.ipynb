{
 "cells": [
  {
   "cell_type": "code",
   "execution_count": 19,
   "id": "db118e50",
   "metadata": {},
   "outputs": [],
   "source": [
    "# Exercício 4 - Crie uma função que receba um argumento formal e uma possível lista de elementos. Faça duas chamadas \n",
    "# à função, com apenas 1 elemento e na segunda chamada com 4 elementos\n",
    "\n",
    "def adicionar(elemento, lista):\n",
    "    lista.append(nome_lista)\n",
    "    if len(lista) == 0:\n",
    "        return elemento\n",
    "    else:\n",
    "        return elemento, lista\n",
    "\n",
    "nome_lista = []"
   ]
  },
  {
   "cell_type": "code",
   "execution_count": 20,
   "id": "678d183a",
   "metadata": {},
   "outputs": [
    {
     "data": {
      "text/plain": [
       "('João', [[...]])"
      ]
     },
     "execution_count": 20,
     "metadata": {},
     "output_type": "execute_result"
    }
   ],
   "source": [
    "adicionar('João', nome_lista)"
   ]
  },
  {
   "cell_type": "code",
   "execution_count": 21,
   "id": "3c1f5b05",
   "metadata": {},
   "outputs": [],
   "source": [
    "nome_lista = ['Marcos', 'Mateus', 'Lucas', 'Thiago']"
   ]
  },
  {
   "cell_type": "code",
   "execution_count": 22,
   "id": "70187efe",
   "metadata": {},
   "outputs": [
    {
     "data": {
      "text/plain": [
       "('João', ['Marcos', 'Mateus', 'Lucas', 'Thiago', [...]])"
      ]
     },
     "execution_count": 22,
     "metadata": {},
     "output_type": "execute_result"
    }
   ],
   "source": [
    "adicionar('João', nome_lista)"
   ]
  },
  {
   "cell_type": "code",
   "execution_count": null,
   "id": "e36b90d4",
   "metadata": {},
   "outputs": [],
   "source": []
  }
 ],
 "metadata": {
  "kernelspec": {
   "display_name": "Python 3 (ipykernel)",
   "language": "python",
   "name": "python3"
  },
  "language_info": {
   "codemirror_mode": {
    "name": "ipython",
    "version": 3
   },
   "file_extension": ".py",
   "mimetype": "text/x-python",
   "name": "python",
   "nbconvert_exporter": "python",
   "pygments_lexer": "ipython3",
   "version": "3.9.13"
  }
 },
 "nbformat": 4,
 "nbformat_minor": 5
}
