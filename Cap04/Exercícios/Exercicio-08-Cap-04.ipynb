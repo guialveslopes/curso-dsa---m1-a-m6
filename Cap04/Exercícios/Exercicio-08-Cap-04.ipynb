{
 "cells": [
  {
   "cell_type": "code",
   "execution_count": 5,
   "id": "96e23af3",
   "metadata": {},
   "outputs": [],
   "source": [
    "# Exercício 8 - Crie um dicionário com 3 chaves e 3 valores. \n",
    "# Um dos valores deve ser uma lista de 2 elementos numéricos. \n",
    "# Imprima o dicionário na tela.\n",
    "carros = {'dodger ram 3500':500.000, 'frontier':[210.000, 250.000], 'touro':100.000}"
   ]
  },
  {
   "cell_type": "code",
   "execution_count": 6,
   "id": "2efab725",
   "metadata": {},
   "outputs": [
    {
     "data": {
      "text/plain": [
       "[210.0, 250.0]"
      ]
     },
     "execution_count": 6,
     "metadata": {},
     "output_type": "execute_result"
    }
   ],
   "source": [
    "carros['frontier']"
   ]
  },
  {
   "cell_type": "code",
   "execution_count": 7,
   "id": "6dffbc3e",
   "metadata": {},
   "outputs": [
    {
     "name": "stdout",
     "output_type": "stream",
     "text": [
      "{'dodger ram 3500': 500.0, 'frontier': [210.0, 250.0], 'touro': 100.0}\n"
     ]
    }
   ],
   "source": [
    "print(carros)"
   ]
  },
  {
   "cell_type": "code",
   "execution_count": null,
   "id": "fbc67de0",
   "metadata": {},
   "outputs": [],
   "source": []
  }
 ],
 "metadata": {
  "kernelspec": {
   "display_name": "Python 3 (ipykernel)",
   "language": "python",
   "name": "python3"
  },
  "language_info": {
   "codemirror_mode": {
    "name": "ipython",
    "version": 3
   },
   "file_extension": ".py",
   "mimetype": "text/x-python",
   "name": "python",
   "nbconvert_exporter": "python",
   "pygments_lexer": "ipython3",
   "version": "3.9.13"
  }
 },
 "nbformat": 4,
 "nbformat_minor": 5
}
