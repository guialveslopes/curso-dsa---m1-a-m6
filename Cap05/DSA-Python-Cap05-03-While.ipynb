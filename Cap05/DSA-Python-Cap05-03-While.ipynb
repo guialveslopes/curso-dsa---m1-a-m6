{
 "cells": [
  {
   "cell_type": "markdown",
   "id": "6fd6c5a1",
   "metadata": {},
   "source": [
    "## Loop While"
   ]
  },
  {
   "cell_type": "code",
   "execution_count": 1,
   "id": "a0a2457e",
   "metadata": {},
   "outputs": [
    {
     "name": "stdout",
     "output_type": "stream",
     "text": [
      "0\n",
      "1\n",
      "2\n",
      "3\n",
      "4\n",
      "5\n",
      "6\n",
      "7\n",
      "8\n",
      "9\n"
     ]
    }
   ],
   "source": [
    "valor = 0\n",
    "while valor < 10:\n",
    "    print(valor)\n",
    "    valor = valor + 1"
   ]
  },
  {
   "cell_type": "code",
   "execution_count": 2,
   "id": "0e109de0",
   "metadata": {},
   "outputs": [],
   "source": [
    "valor = 11\n",
    "while valor < 10:\n",
    "    print(v)\n",
    "    valor = valor + 1 "
   ]
  },
  {
   "cell_type": "code",
   "execution_count": 3,
   "id": "d5c196f0",
   "metadata": {},
   "outputs": [
    {
     "name": "stdout",
     "output_type": "stream",
     "text": [
      "O valor de x nesta iteração é:  0\n",
      " x ainda é menor 10, somando 1 a x\n",
      "O valor de x nesta iteração é:  1\n",
      " x ainda é menor 10, somando 1 a x\n",
      "O valor de x nesta iteração é:  2\n",
      " x ainda é menor 10, somando 1 a x\n",
      "O valor de x nesta iteração é:  3\n",
      " x ainda é menor 10, somando 1 a x\n",
      "O valor de x nesta iteração é:  4\n",
      " x ainda é menor 10, somando 1 a x\n",
      "O valor de x nesta iteração é:  5\n",
      " x ainda é menor 10, somando 1 a x\n",
      "O valor de x nesta iteração é:  6\n",
      " x ainda é menor 10, somando 1 a x\n",
      "O valor de x nesta iteração é:  7\n",
      " x ainda é menor 10, somando 1 a x\n",
      "O valor de x nesta iteração é:  8\n",
      " x ainda é menor 10, somando 1 a x\n",
      "O valor de x nesta iteração é:  9\n",
      " x ainda é menor 10, somando 1 a x\n",
      "Loop concluído!\n",
      "10\n"
     ]
    }
   ],
   "source": [
    "x = 0\n",
    "\n",
    "while x < 10:\n",
    "    print('O valor de x nesta iteração é: ',x)\n",
    "    print(' x ainda é menor 10, somando 1 a x')\n",
    "    x += 1\n",
    "else: \n",
    "    print('Loop concluído!')\n",
    "print(x)"
   ]
  },
  {
   "cell_type": "markdown",
   "id": "406f0c11",
   "metadata": {},
   "source": [
    "## Pass, Break, Continue"
   ]
  },
  {
   "cell_type": "code",
   "execution_count": 4,
   "id": "0424c5a2",
   "metadata": {},
   "outputs": [
    {
     "name": "stdout",
     "output_type": "stream",
     "text": [
      "0\n",
      "1\n",
      "2\n",
      "3\n"
     ]
    }
   ],
   "source": [
    "valor = 0\n",
    "while valor < 10:\n",
    "    if valor == 4:\n",
    "        break\n",
    "    else:\n",
    "        pass\n",
    "    print(valor)\n",
    "    valor = valor + 1"
   ]
  },
  {
   "cell_type": "code",
   "execution_count": 5,
   "id": "6ef6c443",
   "metadata": {},
   "outputs": [
    {
     "name": "stdout",
     "output_type": "stream",
     "text": [
      "P\n",
      "y\n",
      "t\n",
      "h\n",
      "o\n",
      "n\n",
      " \n",
      "é\n",
      " \n",
      " \n",
      "i\n",
      "n\n",
      "c\n",
      "r\n",
      "í\n",
      "v\n",
      "e\n",
      "l\n",
      "!\n"
     ]
    }
   ],
   "source": [
    "for letra in 'Python é zzz incrível!':\n",
    "    if letra == 'z':\n",
    "        continue\n",
    "    print(letra)"
   ]
  },
  {
   "cell_type": "markdown",
   "id": "9c0c6e9f",
   "metadata": {},
   "source": [
    "## while e for juntos "
   ]
  },
  {
   "cell_type": "markdown",
   "id": "4ae6f93c",
   "metadata": {},
   "source": [
    "Inicialize uma lista vazia para armazenar os números primos\n",
    "Para cada número N entre 2 e 30:\n",
    "    Inicialize uma variável eh_primo como verdadeira\n",
    "    Para cada número i entre 2 e N/2:\n",
    "        Se N é divísel por i, então:\n",
    "            Altere a variável eh_primo para falso\n",
    "            Pare de verificar os outros números\n",
    "      Se a variável eh_primo ainda é verdadeira, adicione na lista de números primos\n",
    "Imprima a lista de números primos"
   ]
  },
  {
   "cell_type": "code",
   "execution_count": null,
   "id": "59af7e42",
   "metadata": {},
   "outputs": [],
   "source": [
    "%%time\n",
    "\n",
    "primos = []\n",
    "\n",
    "for num in range(2, 31):\n",
    "    \n",
    "    eh_primo = True\n",
    "    \n",
    "    i = 2\n",
    "    while i <= num // 2:\n",
    "        if num % i == 0:\n",
    "            eh_primo = False\n",
    "            break\n",
    "        i += 1\n",
    "    if eh_primo:\n",
    "        primos.append(num)\n",
    "        \n",
    "print(primos)"
   ]
  }
 ],
 "metadata": {
  "kernelspec": {
   "display_name": "Python 3 (ipykernel)",
   "language": "python",
   "name": "python3"
  },
  "language_info": {
   "codemirror_mode": {
    "name": "ipython",
    "version": 3
   },
   "file_extension": ".py",
   "mimetype": "text/x-python",
   "name": "python",
   "nbconvert_exporter": "python",
   "pygments_lexer": "ipython3",
   "version": "3.9.13"
  }
 },
 "nbformat": 4,
 "nbformat_minor": 5
}
