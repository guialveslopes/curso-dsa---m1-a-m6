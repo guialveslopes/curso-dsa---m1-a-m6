{
 "cells": [
  {
   "cell_type": "code",
   "execution_count": 1,
   "id": "5cbb7814",
   "metadata": {},
   "outputs": [],
   "source": [
    "# Exercício 3 - Crie duas strings e concatene as duas em uma terceira string\n",
    "frase1 = 'eu não sei '"
   ]
  },
  {
   "cell_type": "code",
   "execution_count": 2,
   "id": "a673ea52",
   "metadata": {},
   "outputs": [],
   "source": [
    "frase2 = 'onde caiu'"
   ]
  },
  {
   "cell_type": "code",
   "execution_count": 4,
   "id": "7c666da9",
   "metadata": {},
   "outputs": [],
   "source": [
    "fraseCompleta = frase1 + frase2"
   ]
  },
  {
   "cell_type": "code",
   "execution_count": 5,
   "id": "0466b7b5",
   "metadata": {},
   "outputs": [
    {
     "name": "stdout",
     "output_type": "stream",
     "text": [
      "eu não sei onde caiu\n"
     ]
    }
   ],
   "source": [
    "print(fraseCompleta)"
   ]
  },
  {
   "cell_type": "code",
   "execution_count": null,
   "id": "22034858",
   "metadata": {},
   "outputs": [],
   "source": []
  }
 ],
 "metadata": {
  "kernelspec": {
   "display_name": "Python 3 (ipykernel)",
   "language": "python",
   "name": "python3"
  },
  "language_info": {
   "codemirror_mode": {
    "name": "ipython",
    "version": 3
   },
   "file_extension": ".py",
   "mimetype": "text/x-python",
   "name": "python",
   "nbconvert_exporter": "python",
   "pygments_lexer": "ipython3",
   "version": "3.9.13"
  }
 },
 "nbformat": 4,
 "nbformat_minor": 5
}
